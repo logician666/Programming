{
 "cells": [
  {
   "cell_type": "markdown",
   "metadata": {},
   "source": [
    "### Definitions (Naive)\n",
    "We begin by laying down some naive definitions to help us get our ideas\n",
    "structred before we  \n",
    " walk into the gardens of thought where ideas of OOP are\n",
    "flourishing.\n",
    "\n",
    "For now, we agree on the following definitions:\n",
    "* **class** &mdash; An idea, blueprint, or recipe for an instance;\n",
    "* **instance** * &mdash; An instantiation of the class; very often used  \n",
    "interchangeably with the term 'object'; \n",
    "* **object** &mdash; Python's representation of data and methods;  \n",
    "objects could be aggregates of instances;\n",
    "* **attribute** &mdash; any object or class trait; could be a variable  \n",
    "or method;\n",
    "* **method** &mdash; a function built into a class that is executed  \n",
    "on behalf of the class or object; some say that it’s a 'callable attribute';\n",
    "* **type** &mdash; refers to the class that was used to instantiate the object."
   ]
  },
  {
   "cell_type": "markdown",
   "metadata": {},
   "source": [
    "#### Classes\n",
    "A class is an abstract definition that binds a given set of data along with a  \n",
    "given set of computational functions that are aimed to operate on that data,  \n",
    "and possibly more  abstract functions that operates on instances of some  \n",
    "class(es) (possibly the same class!)."
   ]
  },
  {
   "cell_type": "markdown",
   "metadata": {},
   "source": [
    "#### Instances\n",
    "An instance, is particular physical instantiaion of a class that assumes specific  \n",
    "data values and consumes memory. In Python, a convention was adobted to reference  \n",
    "instances of a classs (within itself) by `self`."
   ]
  },
  {
   "cell_type": "markdown",
   "metadata": {},
   "source": [
    "#### Objects\n",
    "Objects are any operable-on entity. In Python, it could be an instance of a class,  \n",
    "a class itself or else. \n",
    "\n",
    "The terms **instance** is very often used interchangeably with the term **object**  \n",
    "because **object** refers to a particular instance of a class. Yet, this is a matter  \n",
    "of simplification as the term **object** is more general that **instance** (every  \n",
    "instance is an object, yet not every object is an instance!)"
   ]
  },
  {
   "cell_type": "markdown",
   "metadata": {},
   "source": [
    "#### Attributes\n",
    "The term **attributes** refers to two major kinds of class traits:\n",
    "* variables, containing information about the class itself or instance(s) of it;\n",
    "* methods, manifested as Python functions; they represent behaviour that could  \n",
    "be applied to the object."
   ]
  },
  {
   "cell_type": "markdown",
   "metadata": {},
   "source": [
    "#### Methods\n",
    "pass"
   ]
  },
  {
   "cell_type": "markdown",
   "metadata": {},
   "source": [
    "### Class and Instance Data\n",
    "Variables may be assumed on the class level or on the instance level. Variables binded  \n",
    "by the class are referred to as **class variables**, while those binded by an instance  \n",
    "are referred to as **instance variables**."
   ]
  },
  {
   "cell_type": "markdown",
   "metadata": {},
   "source": [
    "#### Instance Variables\n",
    "Instance variables are created only and only it is explicity created and added to an object.  \n",
    "This can be done during an object's intialization performed by the `__init__` method, or  \n",
    "later at any moment of the object's life. They can also be deleted at any time.\n",
    "\n",
    "Instance variables have the scope of the object they were binded to, impling data independence  \n",
    "between data of different instances, and are accessed for reading/writing throught the  \n",
    "following notation:  \n",
    "`{object}.{variable_name}`\n",
    "where `object` is the object's name, and `variable_name` is the name  \n",
    "of the instance variable."
   ]
  },
  {
   "cell_type": "markdown",
   "metadata": {},
   "source": [
    "The example below demonstrates the ability to create instance variables at any point  \n",
    "of an object's lifetime and perseving the data independence of different instances,  \n",
    "and exposing objects' contents throught the universal `__dict__` attribute:"
   ]
  },
  {
   "cell_type": "code",
   "execution_count": 1,
   "metadata": {},
   "outputs": [
    {
     "name": "stdout",
     "output_type": "stream",
     "text": [
      "contents of d1: {'instance_var': 100, 'another_var': 'another variable in the object'}\n",
      "contents of d2: {'instance_var': 200}\n"
     ]
    }
   ],
   "source": [
    "class Demo:\n",
    "    def __init__(self, value):\n",
    "        self.instance_var = value\n",
    "\n",
    "d1 = Demo(100)\n",
    "d2 = Demo(200)\n",
    "\n",
    "d1.another_var = 'another variable in the object'\n",
    "\n",
    "print('contents of d1:', d1.__dict__)\n",
    "print('contents of d2:', d2.__dict__)"
   ]
  },
  {
   "cell_type": "markdown",
   "metadata": {},
   "source": [
    "#### Class Variables\n",
    "Class variables are defined within the class construction, and so available before  \n",
    "any class instance is created. Class variables are accessed via the notation:  \n",
    "`{Class}.{variable_name}`\n",
    "\n",
    "Class variables exist in the `__dict__` attribute of the class itself, but as they are  \n",
    "defined outside of any instance they do not appear in the `__dict__` attribute of instances  \n",
    "but still shared across all instances though and thus readable through them."
   ]
  }
 ],
 "metadata": {
  "interpreter": {
   "hash": "561ae34d269d80dfe6697125e5fef263bf4cea1da13eab624fca1561e588a6b4"
  },
  "kernelspec": {
   "display_name": "Python 3.10.0 64-bit",
   "language": "python",
   "name": "python3"
  },
  "language_info": {
   "codemirror_mode": {
    "name": "ipython",
    "version": 3
   },
   "file_extension": ".py",
   "mimetype": "text/x-python",
   "name": "python",
   "nbconvert_exporter": "python",
   "pygments_lexer": "ipython3",
   "version": "3.10.0"
  },
  "orig_nbformat": 4
 },
 "nbformat": 4,
 "nbformat_minor": 2
}
