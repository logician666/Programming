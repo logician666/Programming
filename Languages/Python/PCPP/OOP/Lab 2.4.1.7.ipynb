{
 "cells": [
  {
   "cell_type": "markdown",
   "metadata": {},
   "source": [
    "### Objectives\n",
    "* Improving the student's skills in creating decorators and operating with them."
   ]
  },
  {
   "cell_type": "markdown",
   "metadata": {},
   "source": [
    "### Scenario\n",
    "* Create a function decorator that prints a timestamp (in a form  \n",
    "like year-month-day hour:minute:seconds, eg. 2019-11-05 08:33:22)\n",
    "* Create a few ordinary functions that do some simple tasks, like  \n",
    "adding or multiplying two numbers.\n",
    "* Apply your decorator to those functions to ensure that the time  \n",
    "of the function executions can be monitored.\n"
   ]
  },
  {
   "cell_type": "code",
   "execution_count": 1,
   "metadata": {},
   "outputs": [],
   "source": [
    "from datetime import datetime"
   ]
  },
  {
   "cell_type": "code",
   "execution_count": 2,
   "metadata": {},
   "outputs": [],
   "source": [
    "def timestamp(function):\n",
    "    def internal_wrapper(*args, **kwargs):\n",
    "        start_time = datetime.now()\n",
    "        print(f\"Function execution started at: {start_time}\")\n",
    "        print(f\"Function output: {function(*args, **kwargs)}\")\n",
    "        end_time = datetime.now()\n",
    "        print(f\"Function execution ended at: {end_time}\")\n",
    "        print(f\"\\nFunction execution time: {end_time - start_time}\")  \n",
    "    return internal_wrapper"
   ]
  },
  {
   "cell_type": "code",
   "execution_count": 3,
   "metadata": {},
   "outputs": [],
   "source": [
    "# We here define functions for which execution time is to be\n",
    "# monitored via oru defined `timestampe` decorator\n",
    "\n",
    "@timestamp\n",
    "def fib(n):\n",
    "    a, b = 0, 1\n",
    "    while a < n:\n",
    "        a, b = b, a + b\n",
    "    return a"
   ]
  },
  {
   "cell_type": "code",
   "execution_count": 4,
   "metadata": {},
   "outputs": [
    {
     "name": "stdout",
     "output_type": "stream",
     "text": [
      "Function execution started at: 2022-02-05 02:00:15.426498\n",
      "Function output: 1134903170\n",
      "Function execution ended at: 2022-02-05 02:00:15.427496\n",
      "\n",
      "Function execution time: 0:00:00.000998\n"
     ]
    }
   ],
   "source": [
    "fib(1_000_000_000)"
   ]
  }
 ],
 "metadata": {
  "interpreter": {
   "hash": "561ae34d269d80dfe6697125e5fef263bf4cea1da13eab624fca1561e588a6b4"
  },
  "kernelspec": {
   "display_name": "Python 3.10.0 64-bit",
   "language": "python",
   "name": "python3"
  },
  "language_info": {
   "codemirror_mode": {
    "name": "ipython",
    "version": 3
   },
   "file_extension": ".py",
   "mimetype": "text/x-python",
   "name": "python",
   "nbconvert_exporter": "python",
   "pygments_lexer": "ipython3",
   "version": "3.10.0"
  },
  "orig_nbformat": 4
 },
 "nbformat": 4,
 "nbformat_minor": 2
}
