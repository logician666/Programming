{
 "cells": [
  {
   "cell_type": "markdown",
   "metadata": {},
   "source": [
    "### Objectives\n",
    "* improving the student's skills in operating with inheritance and composition"
   ]
  },
  {
   "cell_type": "markdown",
   "metadata": {},
   "source": [
    "### Scenario\n",
    "Imagine that you are an automotive fan, and you are able to build a  \n",
    "car from a limited set of components.\n",
    "\n",
    "Your task is to:\n",
    "* define classes representing:\n",
    "    * tires (as a bundle needed by a car to operate); methods available:  \n",
    "    `get_pressure()`, `pump()`; attribute available: size\n",
    "    * engine; methods available: `start()`, `stop()`, `get_state()`; \n",
    "    attribute available: fuel type\n",
    "    * vehicle; method available: `__init__(VIN, engine, tires)`; attribute available: VIN\n",
    "* based on the classes defined above, create the following objects:\n",
    "    * two sets of tires: city tires (size: 15), off-road tires (size: 18)\n",
    "    * two engines: electric engine, petrol engine\n",
    "* instantiate two objects representing cars:\n",
    "    * the first one is a city car, built of an electric engine and city tires\n",
    "    * the second one is an all-terrain car build of a petrol engine and off-road tires\n",
    "* play with the cars by calling methods responsible for interaction with components."
   ]
  },
  {
   "cell_type": "code",
   "execution_count": 1,
   "metadata": {},
   "outputs": [],
   "source": [
    "class Tires:\n",
    "    def __init__(self, size):\n",
    "        self.size, self.__pressure = size, 0\n",
    "    \n",
    "    def get_pressure(self):\n",
    "        return self.__pressure\n",
    "    \n",
    "    def pump(self, psi):\n",
    "        self.__pressure = psi\n",
    "\n",
    "class Engine:\n",
    "    def __init__(self, fuel_type):\n",
    "        self.fuel_type, self.__state = fuel_type, 'stopped'\n",
    "    \n",
    "    def get_state(self):\n",
    "        return self.__state\n",
    "\n",
    "    def start(self):\n",
    "        self.__state = 'started'\n",
    "    \n",
    "    def stop(self):\n",
    "        self.__state = 'stopped'\n",
    "    \n",
    "class Vehicle:\n",
    "    def __init__(self, VIN, engine, tires):\n",
    "        self.VIN, self.engine, self.tires = VIN, engine, tires\n",
    "    \n",
    "    def __repr__(self):\n",
    "        return {'VIN': self.VIN, 'Engine Type': self.engine.fuel_type, 'Tires Size': self.tires.size}\n",
    "    \n",
    "    def __str__(self):\n",
    "        s = '\\n'\n",
    "        for k, v in self.__repr__().items():\n",
    "            s += k + ': ' + str(v) + '\\n'\n",
    "        return s\n"
   ]
  },
  {
   "cell_type": "code",
   "execution_count": 2,
   "metadata": {},
   "outputs": [],
   "source": [
    "city_tires, offroad_tires = Tires(15), Tires(18)\n",
    "electric_engine, petrol_engine = Engine('electricity'), Engine('petrol')\n",
    "\n",
    "city_car    = Vehicle('abc1234', electric_engine, city_tires)\n",
    "all_terrain_car = Vehicle('def5678', petrol_engine, offroad_tires)"
   ]
  },
  {
   "cell_type": "code",
   "execution_count": 3,
   "metadata": {},
   "outputs": [
    {
     "name": "stdout",
     "output_type": "stream",
     "text": [
      "City car:\n",
      " \n",
      "VIN: abc1234\n",
      "Engine Type: electricity\n",
      "Tires Size: 15\n",
      "\n",
      "Tires pressure: 0\n",
      "Trying to pump the tires: \n",
      "Starting the eninge...\n",
      "Engine state: started\n",
      "Stopping the engine...\n",
      "Engine state: stopped\n"
     ]
    }
   ],
   "source": [
    "# Testing the city car \n",
    "print(\"City car:\\n\", city_car)\n",
    "\n",
    "print(f\"Tires pressure: {city_car.tires.get_pressure()}\")\n",
    "print(\"Trying to pump the tires: \")\n",
    "city_car.tires.pump(50)\n",
    "\n",
    "print('Starting the eninge...')\n",
    "city_car.engine.start()\n",
    "print(f\"Engine state: {city_car.engine.get_state()}\")\n",
    "print('Stopping the engine...')\n",
    "city_car.engine.stop()\n",
    "print(f\"Engine state: {city_car.engine.get_state()}\")\n"
   ]
  },
  {
   "cell_type": "code",
   "execution_count": 4,
   "metadata": {},
   "outputs": [
    {
     "name": "stdout",
     "output_type": "stream",
     "text": [
      "City car:\n",
      " \n",
      "VIN: def5678\n",
      "Engine Type: petrol\n",
      "Tires Size: 18\n",
      "\n",
      "Tires pressure: 0\n",
      "Trying to pump the tires: \n",
      "Starting the eninge...\n",
      "Engine state: started\n",
      "Stopping the engine...\n",
      "Engine state: stopped\n"
     ]
    }
   ],
   "source": [
    "# Testing the all-terrrain car \n",
    "print(\"City car:\\n\", all_terrain_car)\n",
    "\n",
    "print(f\"Tires pressure: {all_terrain_car.tires.get_pressure()}\")\n",
    "print(\"Trying to pump the tires: \")\n",
    "all_terrain_car.tires.pump(50)\n",
    "\n",
    "print('Starting the eninge...')\n",
    "all_terrain_car.engine.start()\n",
    "print(f\"Engine state: {all_terrain_car.engine.get_state()}\")\n",
    "print('Stopping the engine...')\n",
    "all_terrain_car.engine.stop()\n",
    "print(f\"Engine state: {all_terrain_car.engine.get_state()}\")"
   ]
  }
 ],
 "metadata": {
  "interpreter": {
   "hash": "561ae34d269d80dfe6697125e5fef263bf4cea1da13eab624fca1561e588a6b4"
  },
  "kernelspec": {
   "display_name": "Python 3.10.0 64-bit",
   "language": "python",
   "name": "python3"
  },
  "language_info": {
   "codemirror_mode": {
    "name": "ipython",
    "version": 3
   },
   "file_extension": ".py",
   "mimetype": "text/x-python",
   "name": "python",
   "nbconvert_exporter": "python",
   "pygments_lexer": "ipython3",
   "version": "3.10.0"
  },
  "orig_nbformat": 4
 },
 "nbformat": 4,
 "nbformat_minor": 2
}
