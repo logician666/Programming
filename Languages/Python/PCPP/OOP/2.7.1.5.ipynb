{
 "cells": [
  {
   "cell_type": "markdown",
   "metadata": {},
   "source": [
    "### Objectives\n",
    "* improving the student's skills in operating with the getter, setter, and deleter methods;\n",
    "* improving the student's skills in creating their own exceptions."
   ]
  },
  {
   "cell_type": "markdown",
   "metadata": {},
   "source": [
    "### Scenario\n",
    "* Implement a class representing an account exception,\n",
    "* Implement a class representing a single bank account,\n",
    "* This class should control access to the account number and account  \n",
    "balance attributes by implementing the properties:\n",
    "    * it should be possible to read the account number only, not change it.  \n",
    "    In case someone tries to change the account number, raise an alarm by  \n",
    "    raising an exception;\n",
    "    * it should not be possible to set a negative balance. In case someone  \n",
    "    tries to set a negative balance, raise an alarm by raising an exception;\n",
    "    * when the bank operation (deposit or withdrawal) is above 100.000, then  \n",
    "    additional message should be printed on the standard output (screen) for \n",
    "    auditing purposes;\n",
    "    * it should not be possible to delete an account as long as the balance  \n",
    "    is not zero;\n",
    "* test your class behavior by:\n",
    "    * setting the balance to 1000;\n",
    "    * trying to set the balance to -200;\n",
    "    * trying to set a new value for the account number;\n",
    "    * trying to deposit 1.000.000;\n",
    "    * trying to delete the account attribute containing a non-zero balance."
   ]
  },
  {
   "cell_type": "code",
   "execution_count": 1,
   "metadata": {},
   "outputs": [],
   "source": [
    "class AccountException(Exception):\n",
    "    pass"
   ]
  },
  {
   "cell_type": "code",
   "execution_count": 2,
   "metadata": {},
   "outputs": [],
   "source": [
    "class Account:\n",
    "    def __init__(self, no, balance=0):\n",
    "        self.__no, self.__balance = no, balance\n",
    "    \n",
    "    @property\n",
    "    def no(self):\n",
    "        return self.__no\n",
    "    \n",
    "    @no.setter\n",
    "    def no(self, no):\n",
    "        raise AccountException('Cannont change an account\\'s number')\n",
    "    \n",
    "    @no.deleter\n",
    "    def no(self):\n",
    "        if self.__balance != 0:\n",
    "            raise AccountException('Deleting an account number from an account is prohibited.')\n",
    "    \n",
    "    @property\n",
    "    def balance(self):\n",
    "        return self.__balance\n",
    "    \n",
    "    @balance.setter\n",
    "    def balance(self, amount):\n",
    "        if amount < 0:\n",
    "            raise AccountException('Cannot set the account balance to a negative value!')\n",
    "        self.__balance = amount\n",
    "    \n",
    "    def deposit(self, amount):\n",
    "        if amount > 100_000:\n",
    "            print(f\"Warning: A deposit/withdraw exceeding the safe threshold has been made!\")\n",
    "        self.__balance += amount\n",
    "    \n",
    "    def withdraw(self, amount):\n",
    "        if amount > self.__balance:\n",
    "            raise AccountException('Cannot withdraw more that what is already available')\n",
    "        self.deposit(-amount)\n",
    "    \n",
    "    def __str__(self):\n",
    "        return f\"Account No.: {self.__no}\\nBalance = {self.__balance}\""
   ]
  },
  {
   "cell_type": "code",
   "execution_count": 3,
   "metadata": {},
   "outputs": [
    {
     "name": "stdout",
     "output_type": "stream",
     "text": [
      "Account No.: EG11101110113413434\n",
      "Balance = 100\n",
      "Error: Cannot set the account balance to a negative value!\n",
      "Error: Cannont change an account's number\n",
      "Warning: A deposit/withdraw exceeding the safe threshold has been made!\n",
      "Account No.: EG11101110113413434\n",
      "Balance = 1000100\n",
      "Error: Deleting an account number from an account is prohibited.\n"
     ]
    }
   ],
   "source": [
    "my_account = Account('EG11101110113413434')\n",
    "\n",
    "my_account.balance = 100\n",
    "print(my_account)\n",
    "\n",
    "try:\n",
    "    my_account.balance = -200\n",
    "    print(my_account)\n",
    "except AccountException as e:\n",
    "    print('Error:', e)\n",
    "\n",
    "try:\n",
    "    my_account.no = 'EG1334143978909134687'\n",
    "    print(my_account)\n",
    "except AccountException as e:\n",
    "    print('Error:', e)\n",
    "\n",
    "try:\n",
    "    my_account.deposit(1_000_000)\n",
    "    print(my_account)\n",
    "except AccountException as e:\n",
    "    print('Error:', e)\n",
    "\n",
    "try:\n",
    "    del my_account.no\n",
    "    print(my_account)\n",
    "except AccountException as e:\n",
    "    print('Error:', e)"
   ]
  }
 ],
 "metadata": {
  "interpreter": {
   "hash": "561ae34d269d80dfe6697125e5fef263bf4cea1da13eab624fca1561e588a6b4"
  },
  "kernelspec": {
   "display_name": "Python 3.10.0 64-bit",
   "language": "python",
   "name": "python3"
  },
  "language_info": {
   "codemirror_mode": {
    "name": "ipython",
    "version": 3
   },
   "file_extension": ".py",
   "mimetype": "text/x-python",
   "name": "python",
   "nbconvert_exporter": "python",
   "pygments_lexer": "ipython3",
   "version": "3.10.0"
  },
  "orig_nbformat": 4
 },
 "nbformat": 4,
 "nbformat_minor": 2
}
