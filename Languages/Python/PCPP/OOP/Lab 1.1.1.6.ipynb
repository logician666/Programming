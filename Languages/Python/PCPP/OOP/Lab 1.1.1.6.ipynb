{
 "cells": [
  {
   "cell_type": "markdown",
   "metadata": {},
   "source": [
    "### Objectives\n",
    "* creating classes, methods, and variables;\n",
    "* calling methods;\n",
    "* getting simple access to instance variables;\n",
    "\n",
    "### Scenario\n",
    "* create a class representing a mobile phone;\n",
    "* your class should implement the following methods:\n",
    "    * __init__ expects a number to be passed as an argument; this method  \n",
    "    stores the number in an instance variable self.number\n",
    "    * turn_on() should return the message 'mobile phone {number} is turned  \n",
    "    on'. Curly brackets are used to mark the place to insert the object's number variable;\n",
    "    * turn_off() should return the message 'mobile phone is turned off';\n",
    "    * call(number) should return the message 'calling {number}'. Curly  \n",
    "    brackets are used to mark the place to insert the object's number variable;\n",
    "* create two objects representing two different mobile phones; assign \n",
    " any random phone numbers to them;\n",
    "* implement a sequence of method calls on the objects to turn them on, \n",
    "call any number. Print the methods' outcomes;\n",
    "* turn off both mobiles."
   ]
  },
  {
   "cell_type": "code",
   "execution_count": 1,
   "metadata": {},
   "outputs": [],
   "source": [
    "class Mobile:\n",
    "    \"\"\"Implement a simple Mobile class\"\"\"\n",
    "    def __init__(self, number):\n",
    "        self.number = number\n",
    "    \n",
    "    def turn_on(self):\n",
    "        return f\"Mobile phone {self.number} is turned on.\"\n",
    "\n",
    "    def turn_off(self):\n",
    "        return 'Mobile phone is turned off.'\n",
    "    \n",
    "    def call(self, number):\n",
    "        return f\"Calling {number}\""
   ]
  },
  {
   "cell_type": "code",
   "execution_count": 3,
   "metadata": {},
   "outputs": [
    {
     "name": "stdout",
     "output_type": "stream",
     "text": [
      "Mobile phone +020 1140400740 is turned on.\n",
      "Mobile phone +966 50345123 is turned on.\n",
      "Calling +020 1140400740\n",
      "Mobile phone is turned off.\n",
      "Mobile phone is turned off.\n"
     ]
    }
   ],
   "source": [
    "# Instantiation from the Mobile class and testing\n",
    "\n",
    "mobile1, mobile2 = Mobile('+020 1140400740'), Mobile('+966 50345123')\n",
    "\n",
    "print(\n",
    "    mobile1.turn_on(), mobile2.turn_on(),\n",
    "    mobile1.call(mobile1.number),\n",
    "    mobile1.turn_off(), mobile2.turn_off(),\n",
    "\n",
    "    sep='\\n'\n",
    ")"
   ]
  },
  {
   "cell_type": "code",
   "execution_count": null,
   "metadata": {},
   "outputs": [],
   "source": []
  }
 ],
 "metadata": {
  "interpreter": {
   "hash": "561ae34d269d80dfe6697125e5fef263bf4cea1da13eab624fca1561e588a6b4"
  },
  "kernelspec": {
   "display_name": "Python 3.10.0 64-bit",
   "language": "python",
   "name": "python3"
  },
  "language_info": {
   "codemirror_mode": {
    "name": "ipython",
    "version": 3
   },
   "file_extension": ".py",
   "mimetype": "text/x-python",
   "name": "python",
   "nbconvert_exporter": "python",
   "pygments_lexer": "ipython3",
   "version": "3.10.0"
  },
  "orig_nbformat": 4
 },
 "nbformat": 4,
 "nbformat_minor": 2
}
