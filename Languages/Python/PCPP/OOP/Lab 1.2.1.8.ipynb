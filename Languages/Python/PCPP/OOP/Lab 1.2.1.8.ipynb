{
 "cells": [
  {
   "cell_type": "markdown",
   "metadata": {},
   "source": [
    "### Objectives\n",
    "* creating classes, class and instance variables;\n",
    "* accessing class and instance variables;"
   ]
  },
  {
   "cell_type": "markdown",
   "metadata": {},
   "source": [
    "\n",
    "### Scenario\n",
    "Imagine that you receive a task description of an application that monitors the  \n",
    "process of apple packaging before the apples are sent to a shop.\n",
    "\n",
    "A shop owner has asked for 1000 apples, but the total weight limitation  \n",
    "cannot exceed 300 units.\n",
    "\n",
    "Write a code that creates objects representing apples as long as both  \n",
    "limitations are met. When any limitation is exceeded, then the packaging  \n",
    "process is stopped, and your application should print the number of  \n",
    "apple class objects created, and the total weight.\n",
    "\n",
    "Your application should keep track of two parameters:\n",
    "* the number of apples processed, stored as a class variable;\n",
    "* the total weight of the apples processed; stored as a class variable.  \n",
    "Assume that each apple's weight is random, and can vary between 0.2 and  \n",
    "0.5 of an imaginary weight unit;"
   ]
  },
  {
   "cell_type": "code",
   "execution_count": 6,
   "metadata": {},
   "outputs": [],
   "source": [
    "from random import uniform"
   ]
  },
  {
   "cell_type": "code",
   "execution_count": 16,
   "metadata": {},
   "outputs": [
    {
     "name": "stdout",
     "output_type": "stream",
     "text": [
      "A total of 861 were added to the package at atotal weight of 299.6169 units.\n"
     ]
    }
   ],
   "source": [
    "class Apple:\n",
    "    count, total_weight = 0, 0\n",
    "\n",
    "    def __init__(self):\n",
    "        self.weight = uniform(0.2, 0.5)\n",
    "        Apple.count += 1\n",
    "        Apple.total_weight += self.weight\n",
    "\n",
    "package = []\n",
    "while Apple.count < 1_001 and Apple.total_weight < 300:\n",
    "    package.append(Apple())\n",
    "\n",
    "last_apple = package.pop()\n",
    "\n",
    "print(\n",
    "    f\"A total of {Apple.count - 1} were added to the package at a\"\n",
    "    f\"total weight of {Apple.total_weight - last_apple.weight:.4f} units.\"\n",
    ") "
   ]
  }
 ],
 "metadata": {
  "interpreter": {
   "hash": "561ae34d269d80dfe6697125e5fef263bf4cea1da13eab624fca1561e588a6b4"
  },
  "kernelspec": {
   "display_name": "Python 3.10.0 64-bit",
   "language": "python",
   "name": "python3"
  },
  "language_info": {
   "codemirror_mode": {
    "name": "ipython",
    "version": 3
   },
   "file_extension": ".py",
   "mimetype": "text/x-python",
   "name": "python",
   "nbconvert_exporter": "python",
   "pygments_lexer": "ipython3",
   "version": "3.10.0"
  },
  "orig_nbformat": 4
 },
 "nbformat": 4,
 "nbformat_minor": 2
}
