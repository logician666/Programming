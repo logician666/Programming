{
 "cells": [
  {
   "cell_type": "markdown",
   "metadata": {},
   "source": [
    "\n",
    "### Scenario #1\n",
    "* Create a class representing a time interval;\n",
    "* the class should implement its own method for addition, subtraction on time  \n",
    "interval class objects;\n",
    "* the class should implement its own method for multiplication of time interval  \n",
    "class objects by an integer-type value;\n",
    "* the `__init__` method should be based on keywords to allow accurate and  \n",
    "convenient object initialization, but limit it to hours, minutes, and seconds parameters;\n",
    "* the `__str__` method should return an `HH:MM:SS` string, where `HH` represents hours,  \n",
    "`MM` represents minutes and `SS` represents the seconds attributes of the time interval object;\n",
    "* check the argument type, and in case of a mismatch, raise a `TypeError` exception."
   ]
  },
  {
   "cell_type": "markdown",
   "metadata": {},
   "source": [
    "---\n",
    "#### Solution"
   ]
  },
  {
   "cell_type": "code",
   "execution_count": 1,
   "metadata": {},
   "outputs": [],
   "source": [
    "class TimeInterval:\n",
    "    # Convert a time interval in seconds to a tuple of the format:\n",
    "    # (HH, MM, SS)\n",
    "    from_seconds = lambda s: (s // 3_600, s // 60 % 60, s % 60)\n",
    "\n",
    "    def __init__(self, hours=0, minutes=0, seconds=0):\n",
    "        self.hours, self.minutes, self.seconds = hours, minutes, seconds\n",
    "        self.SECONDS = 3_600*hours + 60*minutes + seconds\n",
    "    \n",
    "    def __str__(self):\n",
    "        return f\"{self.hours}:{self.minutes}:{self.seconds}\"\n",
    "\n",
    "    def __add__(self, t):\n",
    "        if type(t) is not TimeInterval:\n",
    "            raise TypeError(f\"Operands of type {type(self)} and type {type(t)} cannont be involved in the ascribed operation!\")\n",
    "        return TimeInterval(*TimeInterval.from_seconds(self.SECONDS + t.SECONDS))    \n",
    "    \n",
    "    def __sub__(self, t):\n",
    "        t.SECONDS *= -1\n",
    "        return self + t\n",
    "    \n",
    "    def __mul__(self, factor):\n",
    "        return TimeInterval(*TimeInterval.from_seconds(factor * self.SECONDS))\n"
   ]
  },
  {
   "cell_type": "code",
   "execution_count": 2,
   "metadata": {},
   "outputs": [
    {
     "name": "stdout",
     "output_type": "stream",
     "text": [
      "23:44:12\n",
      "20:13:28\n",
      "43:57:40\n"
     ]
    }
   ],
   "source": [
    "# Testing\n",
    "fti, sti = TimeInterval(21, 58, 50), TimeInterval(1, 45, 22)\n",
    "\n",
    "print(\n",
    "    fti + sti, \n",
    "    fti - sti,\n",
    "    fti * 2, # Order of operands matter: multiplication isn't commulative!\n",
    "    sep='\\n'\n",
    ")"
   ]
  },
  {
   "cell_type": "markdown",
   "metadata": {},
   "source": [
    "---"
   ]
  },
  {
   "cell_type": "markdown",
   "metadata": {},
   "source": [
    "### Scenario #2\n",
    "* Extend the class implementation prepared in the previous lab to support  \n",
    "the addition and subtraction of integers to time interval objects;\n",
    "* to add an integer to a time interval object means to add seconds;\n",
    "* to subtract an integer from a time interval object means to remove seconds."
   ]
  },
  {
   "cell_type": "code",
   "execution_count": 3,
   "metadata": {},
   "outputs": [],
   "source": [
    "from inspect import stack"
   ]
  },
  {
   "cell_type": "code",
   "execution_count": 4,
   "metadata": {},
   "outputs": [],
   "source": [
    "class TimeInterval:\n",
    "    # Convert a time interval in seconds to a tuple of the format:\n",
    "    # (HH, MM, SS)\n",
    "    from_seconds = lambda s: (s // 3_600, s // 60 % 60, s % 60)\n",
    "\n",
    "    def __init__(self, hours=0, minutes=0, seconds=0):\n",
    "        self.hours, self.minutes, self.seconds = hours, minutes, seconds\n",
    "        self.SECONDS = 3_600*hours + 60*minutes + seconds\n",
    "    \n",
    "    def __str__(self):\n",
    "        return f\"{self.hours}:{self.minutes}:{self.seconds}\"\n",
    "\n",
    "    def __add__(self, t):\n",
    "        op = stack()[1].function\n",
    "\n",
    "        # If the addend is an integer, cast it to a TimeInterval object\n",
    "        if isinstance(t, int):\n",
    "            t = TimeInterval(seconds=t)\n",
    "        # If it is not an integer nor a TimeIterval, raise an exception\n",
    "        elif not isinstance(t, TimeInterval):\n",
    "            raise TypeError(f\"unsupported operand type(s) for {'-' if op == '__sub__' else '+'}: 'TimeInterval' and '{type(t).__name__}'\")\n",
    "\n",
    "        # If the __sub__ function is the caller, negate the seconds number\n",
    "        if op == '__sub__':\n",
    "            t.SECONDS *= -1\n",
    "\n",
    "        return TimeInterval(*TimeInterval.from_seconds(self.SECONDS + t.SECONDS))    \n",
    "    \n",
    "    def __sub__(self, t):\n",
    "        return self + t\n",
    "    \n",
    "    def __mul__(self, factor):\n",
    "        return TimeInterval(*TimeInterval.from_seconds(factor * self.SECONDS))\n"
   ]
  },
  {
   "cell_type": "code",
   "execution_count": 5,
   "metadata": {},
   "outputs": [
    {
     "name": "stdout",
     "output_type": "stream",
     "text": [
      "It works like a charm\n"
     ]
    }
   ],
   "source": [
    "# Testing\n",
    "t1 = TimeInterval(hours=21, minutes=58, seconds=50)\n",
    "t2 = TimeInterval(1, 45, 22)\n",
    "\n",
    "assert str(t1 + t2) == '23:44:12'\n",
    "assert str(t1 - t2) == '20:13:28'\n",
    "assert str(t1 * 2) == '43:57:40'\n",
    "assert str(t1 + 62) == '21:59:52'\n",
    "assert str(t1 - 62) == '21:57:48'\n",
    "\n",
    "print('It works like a charm')"
   ]
  }
 ],
 "metadata": {
  "interpreter": {
   "hash": "561ae34d269d80dfe6697125e5fef263bf4cea1da13eab624fca1561e588a6b4"
  },
  "kernelspec": {
   "display_name": "Python 3.10.0 64-bit",
   "language": "python",
   "name": "python3"
  },
  "language_info": {
   "codemirror_mode": {
    "name": "ipython",
    "version": 3
   },
   "file_extension": ".py",
   "mimetype": "text/x-python",
   "name": "python",
   "nbconvert_exporter": "python",
   "pygments_lexer": "ipython3",
   "version": "3.10.0"
  },
  "orig_nbformat": 4
 },
 "nbformat": 4,
 "nbformat_minor": 2
}
