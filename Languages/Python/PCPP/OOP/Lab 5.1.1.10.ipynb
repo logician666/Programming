{
 "cells": [
  {
   "cell_type": "markdown",
   "metadata": {},
   "source": [
    "### Objectives\n",
    "* improving the student's skills in operating with metaclasses;\n",
    "* improving the student's skills in operating with class variables and class methods."
   ]
  },
  {
   "cell_type": "markdown",
   "metadata": {},
   "source": [
    "### Scenario\n",
    "* Imagine you’ve been given a task to clean up the code of a system developed in  \n",
    "Python – the code should be treated as legacy code;\n",
    "* the system was created by a group of volunteers who worked with no clear “clean coding” rules;\n",
    "* the system suffers from a problem: we don’t know in which order the classes are created,  \n",
    "so it causes multiple dependency problems;\n",
    "* your task is to prepare a metaclass that is responsible for:\n",
    "    * equipping all newly instantiated classes with time stamps, persisted in a class  \n",
    "    attribute named `instantiation_time`;\n",
    "    * equipping all newly instantiated classes with the `get_instantiation_time()` method.  \n",
    "    The method should return the value of the class attribute `instantiation_time`.\n",
    "\n",
    "\\* The metaclass should have its own class variable (a list) that contains a list of the  \n",
    "names of the classes instantiated by the metaclass (tip: append the class name in the \n",
    "`__new__` method).\n",
    "\n",
    "* Your metaclass should be used to create a few distinct legacy classes;\n",
    "* create objects based on the classes;\n",
    "* list the class names that are instantiated by your metaclass."
   ]
  },
  {
   "cell_type": "code",
   "execution_count": 1,
   "metadata": {},
   "outputs": [],
   "source": [
    "from time import time"
   ]
  },
  {
   "cell_type": "code",
   "execution_count": 2,
   "metadata": {},
   "outputs": [],
   "source": [
    "def get_instantiation_time(cls):\n",
    "    return cls.instantiation_time\n",
    "\n",
    "class TimeStampedClass(type):\n",
    "    instantiated_classes = []\n",
    "\n",
    "    def __new__(mcs, name, bases, dictionary):\n",
    "        dictionary['get_instantiation_time'] = get_instantiation_time\n",
    "        obj = super().__new__(mcs, name, bases, dictionary)\n",
    "        obj.instantiation_time = time()\n",
    "        TimeStampedClass.instantiated_classes.append(name)\n",
    "        return obj"
   ]
  },
  {
   "cell_type": "code",
   "execution_count": 3,
   "metadata": {},
   "outputs": [
    {
     "name": "stdout",
     "output_type": "stream",
     "text": [
      "1644957407.7578223\n",
      "['LegacyClass']\n"
     ]
    }
   ],
   "source": [
    "class LegacyClass(metaclass=TimeStampedClass):\n",
    "    pass\n",
    "\n",
    "legacy_obj = LegacyClass()\n",
    "print(legacy_obj.get_instantiation_time())\n",
    "print(TimeStampedClass.instantiated_classes)"
   ]
  }
 ],
 "metadata": {
  "interpreter": {
   "hash": "561ae34d269d80dfe6697125e5fef263bf4cea1da13eab624fca1561e588a6b4"
  },
  "kernelspec": {
   "display_name": "Python 3.10.0 64-bit",
   "language": "python",
   "name": "python3"
  },
  "language_info": {
   "codemirror_mode": {
    "name": "ipython",
    "version": 3
   },
   "file_extension": ".py",
   "mimetype": "text/x-python",
   "name": "python",
   "nbconvert_exporter": "python",
   "pygments_lexer": "ipython3",
   "version": "3.10.0"
  },
  "orig_nbformat": 4
 },
 "nbformat": 4,
 "nbformat_minor": 2
}
