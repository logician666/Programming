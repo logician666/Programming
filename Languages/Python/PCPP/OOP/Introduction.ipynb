{
 "cells": [
  {
   "cell_type": "markdown",
   "metadata": {},
   "source": [
    "### Definitions (Naive)\n",
    "We begin by laying down some naive definitions to help us get our ideas\n",
    "structred before we  \n",
    " walk into the gardens of thought where ideas of OOP are\n",
    "flourishing.\n",
    "\n",
    "For now, we agree on the following definitions:\n",
    "* **class** &mdash; An idea, blueprint, or recipe for an instance;\n",
    "* **instance** * &mdash; An instantiation of the class; very often used  \n",
    "interchangeably with the term 'object'; \n",
    "* **object** &mdash; Python's representation of data and methods;  \n",
    "objects could be aggregates of instances;\n",
    "* **attribute** &mdash; any object or class trait; could be a variable  \n",
    "or method;\n",
    "* **method** &mdash; a function built into a class that is executed  \n",
    "on behalf of the class or object; some say that it’s a 'callable attribute';\n",
    "* **type** &mdash; refers to the class that was used to instantiate the object."
   ]
  },
  {
   "cell_type": "markdown",
   "metadata": {},
   "source": [
    "#### Classes\n",
    "A class is an abstract definition that binds a given set of data along with a  \n",
    "given set of computational functions that are aimed to operate on that data,  \n",
    "and possibly more  abstract functions that operates on instances of some  \n",
    "class(es) (possibly the same class!)."
   ]
  },
  {
   "cell_type": "markdown",
   "metadata": {},
   "source": [
    "#### Instances\n",
    "An instance, is particular physical instantiaion of a class that assumes specific  \n",
    "data values and consumes memory. In Python, a convention was adobted to reference  \n",
    "instances of a classs (within itself) by `self`."
   ]
  },
  {
   "cell_type": "markdown",
   "metadata": {},
   "source": [
    "#### Objects\n",
    "Objects are any operable-on entity. In Python, it could be an instance of a class,  \n",
    "a class itself or else. \n",
    "\n",
    "The terms **instance** is very often used interchangeably with the term **object**  \n",
    "because **object** refers to a particular instance of a class. Yet, this is a matter  \n",
    "of simplification as the term **object** is more general that **instance** (every  \n",
    "instance is an object, yet not every object is an instance!)"
   ]
  },
  {
   "cell_type": "markdown",
   "metadata": {},
   "source": [
    "#### Attributes\n",
    "The term **attributes** refers to two major kinds of class traits:\n",
    "* variables, containing information about the class itself or instance(s) of it;\n",
    "* methods, manifested as Python functions; they represent behaviour that could  \n",
    "be applied to the object."
   ]
  }
 ],
 "metadata": {
  "interpreter": {
   "hash": "561ae34d269d80dfe6697125e5fef263bf4cea1da13eab624fca1561e588a6b4"
  },
  "kernelspec": {
   "display_name": "Python 3.10.0 64-bit",
   "language": "python",
   "name": "python3"
  },
  "language_info": {
   "codemirror_mode": {
    "name": "ipython",
    "version": 3
   },
   "file_extension": ".py",
   "mimetype": "text/x-python",
   "name": "python",
   "nbconvert_exporter": "python",
   "pygments_lexer": "ipython3",
   "version": "3.10.0"
  },
  "orig_nbformat": 4
 },
 "nbformat": 4,
 "nbformat_minor": 2
}
