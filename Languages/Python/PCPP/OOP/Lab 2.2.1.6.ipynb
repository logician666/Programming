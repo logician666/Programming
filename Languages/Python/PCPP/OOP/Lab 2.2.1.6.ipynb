{
 "cells": [
  {
   "cell_type": "markdown",
   "metadata": {},
   "source": [
    "### Objectives\n",
    "* improving the student's skills in operating with multiple inheritance;\n",
    "* pointing out the nature of multiple inheritance problems.\n",
    "\n",
    "### Scenario\n",
    "* Your task is to build a multifunction device (MFD) class consisting of  \n",
    "methods responsible for document scanning, printing, and sending via fax.\n",
    "* The methods are delivered by the following classes:\n",
    "    * `scan()`, delivered by the `Scanner` class;\n",
    "    * `print()`, delivered by the `Printer` class;\n",
    "    * `send()` and `print()`, delivered by the `Fax` class.\n",
    "* Each method should print a message indicating its purpose and origin, like:\n",
    "    * 'print() method from Printer class'\n",
    "    * 'send() method from Fax class'\n",
    "* create an `MFD_SPF` class ('SPF' means 'Scanner', 'Printer', 'Fax'), then instantiate it;\n",
    "* create an `MFD_SFP` class ('SFP' means 'Scanner', 'Fax', 'Printer'), then instantiate it;\n",
    "* on each object call the methods: `scan()`, `print()`, `send()`;\n",
    "* observe the output differences. Was the Printer class utilized each time?"
   ]
  },
  {
   "cell_type": "code",
   "execution_count": 1,
   "metadata": {},
   "outputs": [
    {
     "name": "stdout",
     "output_type": "stream",
     "text": [
      "Checking an MFD_SPF object:\n",
      "scan() method from Scanner class\n",
      "print() method from Printer class\n",
      "send() method from Fax class\n",
      "\n",
      "Checking an MFD_SFP object:\n",
      "scan() method from Scanner class\n",
      "print() function from Fax class\n",
      "send() method from Fax class\n"
     ]
    }
   ],
   "source": [
    "class Scanner:\n",
    "    def scan(self):\n",
    "        print('scan() method from Scanner class')\n",
    "\n",
    "class Printer:\n",
    "    def print(self):\n",
    "        print('print() method from Printer class')\n",
    "\n",
    "class Fax:\n",
    "    def send(self):\n",
    "        print('send() method from Fax class')\n",
    "    \n",
    "    def print(self):\n",
    "        print('print() function from Fax class')\n",
    "\n",
    "class MFD_SPF(Scanner, Printer, Fax):\n",
    "    def __init__(self):\n",
    "        pass\n",
    "\n",
    "class MFD_SFP(Scanner, Fax, Printer):\n",
    "    def __init__(self):\n",
    "        pass\n",
    "\n",
    "dev1, dev2 = MFD_SPF(), MFD_SFP()\n",
    "\n",
    "print('Checking an MFD_SPF object:')\n",
    "dev1.scan(); dev1.print(); dev1.send()\n",
    "\n",
    "print('\\nChecking an MFD_SFP object:')\n",
    "dev2.scan(); dev2.print(); dev2.send()"
   ]
  }
 ],
 "metadata": {
  "interpreter": {
   "hash": "561ae34d269d80dfe6697125e5fef263bf4cea1da13eab624fca1561e588a6b4"
  },
  "kernelspec": {
   "display_name": "Python 3.10.0 64-bit",
   "language": "python",
   "name": "python3"
  },
  "language_info": {
   "codemirror_mode": {
    "name": "ipython",
    "version": 3
   },
   "file_extension": ".py",
   "mimetype": "text/x-python",
   "name": "python",
   "nbconvert_exporter": "python",
   "pygments_lexer": "ipython3",
   "version": "3.10.0"
  },
  "orig_nbformat": 4
 },
 "nbformat": 4,
 "nbformat_minor": 2
}
