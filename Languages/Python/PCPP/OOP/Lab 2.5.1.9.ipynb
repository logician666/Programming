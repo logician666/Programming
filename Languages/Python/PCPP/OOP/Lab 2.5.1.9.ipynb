{
 "cells": [
  {
   "cell_type": "markdown",
   "metadata": {},
   "source": [
    "### Objectives\n",
    "* improving the student's skills in operating with static and class methods"
   ]
  },
  {
   "cell_type": "markdown",
   "metadata": {},
   "source": [
    "### Scenario\n",
    "* Create a class representing a luxury watch;\n",
    "* The class should allow you to hold a number of watches created in the  \n",
    "`watches_created` class variable. The number could be fetched using a  \n",
    "class method named `get_number_of_watches_created`;\n",
    "* the class may allow you to create a watch with a dedicated engraving (text).    \n",
    "As this is an extra option, the watch with the engraving should be created    \n",
    "using an alternative constructor (a class method), as a regular `__init__`  \n",
    "method  should not allow ordering engravings;  \n",
    "* the regular `__init__` method should only increase the value of the  \n",
    "appropriate class variable;\n",
    "\n",
    "The text intended to be engraved should follow some restrictions:\n",
    "* it should not be longer than 40 characters;\n",
    "* it should consist of alphanumerical characters, so no space characters are allowed;\n",
    "* if the text does not comply with restrictions, an exception should be raised;\n",
    "\n",
    "Before engraving the desired text, the text should be validated against  \n",
    "restrictions using a dedicated static method.\n",
    "\n",
    "* Create a watch with no engraving\n",
    "* Create a watch with correct text for engraving\n",
    "* Try to create a watch with incorrect text, like 'foo@baz.com'. Handle the exception\n",
    "* After each watch is created, call class method to see if the counter variable was increased"
   ]
  },
  {
   "cell_type": "code",
   "execution_count": 1,
   "metadata": {},
   "outputs": [],
   "source": [
    "class Watch:\n",
    "    watches_created = 0\n",
    "\n",
    "    @classmethod\n",
    "    def get_number_of_watches_created(cls):\n",
    "        return cls.watches_created\n",
    "    \n",
    "    @staticmethod\n",
    "    def validate_text(text):\n",
    "        if len(text) > 40 or not text.isalpha():\n",
    "            raise ValueError(text + ': ' + 'Engraving text should be of alphanumeric characters only with max length of 40 characters.')\n",
    "\n",
    "    @classmethod\n",
    "    def with_engraving(cls, text):\n",
    "        cls.validate_text(text)\n",
    "        _watch = cls()\n",
    "        _watch.text = text\n",
    "        return _watch\n",
    "\n",
    "    def __init__(self):\n",
    "       Watch.watches_created += 1 "
   ]
  },
  {
   "cell_type": "code",
   "execution_count": 2,
   "metadata": {},
   "outputs": [
    {
     "name": "stdout",
     "output_type": "stream",
     "text": [
      "1\n",
      "2\n",
      "Error was raised: logician666@outlook.com: Engraving text should be of alphanumeric characters only with max length of 40 characters.\n"
     ]
    }
   ],
   "source": [
    "try:\n",
    "    w1 = Watch()\n",
    "    print(Watch.get_number_of_watches_created())\n",
    "    w2 = Watch.with_engraving('MyFierceFriend')\n",
    "    print(Watch.get_number_of_watches_created())\n",
    "    w3 = Watch.with_engraving('logician666@outlook.com')\n",
    "    print(Watch.get_number_of_watches_created())\n",
    "except Exception as e:\n",
    "    print(f\"Error was raised: {e}\")"
   ]
  }
 ],
 "metadata": {
  "interpreter": {
   "hash": "561ae34d269d80dfe6697125e5fef263bf4cea1da13eab624fca1561e588a6b4"
  },
  "kernelspec": {
   "display_name": "Python 3.10.0 64-bit",
   "language": "python",
   "name": "python3"
  },
  "language_info": {
   "codemirror_mode": {
    "name": "ipython",
    "version": 3
   },
   "file_extension": ".py",
   "mimetype": "text/x-python",
   "name": "python",
   "nbconvert_exporter": "python",
   "pygments_lexer": "ipython3",
   "version": "3.10.0"
  },
  "orig_nbformat": 4
 },
 "nbformat": 4,
 "nbformat_minor": 2
}
